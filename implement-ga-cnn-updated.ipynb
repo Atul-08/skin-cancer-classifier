{
 "cells": [
  {
   "cell_type": "code",
   "execution_count": 1,
   "id": "ad79f985",
   "metadata": {
    "colab": {
     "base_uri": "https://localhost:8080/"
    },
    "execution": {
     "iopub.execute_input": "2024-08-31T17:45:25.062926Z",
     "iopub.status.busy": "2024-08-31T17:45:25.062555Z",
     "iopub.status.idle": "2024-08-31T17:45:45.647223Z",
     "shell.execute_reply": "2024-08-31T17:45:45.646174Z",
     "shell.execute_reply.started": "2024-08-31T17:45:25.062890Z"
    },
    "id": "9525349f",
    "outputId": "1d190cc9-08fd-43c6-ff40-eba8c980f196"
   },
   "outputs": [],
   "source": [
    "import os\n",
    "import numpy as np\n",
    "import tensorflow as tf\n",
    "import pandas as pd\n",
    "from PIL import Image\n",
    "import matplotlib.pyplot as plt\n",
    "from tensorflow.keras.models import Sequential\n",
    "from tensorflow.keras.layers import Conv2D, MaxPooling2D, Dense, Flatten, Dropout, BatchNormalization\n",
    "from tensorflow.keras.optimizers import Adam\n",
    "from tensorflow.keras.callbacks import ReduceLROnPlateau, EarlyStopping, ModelCheckpoint\n",
    "from sklearn.model_selection import train_test_split\n",
    "from concurrent.futures import ThreadPoolExecutor\n",
    "import random\n",
    "from sklearn.metrics import f1_score, recall_score, precision_score, confusion_matrix\n",
    "import seaborn as sns"
   ]
  },
  {
   "cell_type": "code",
   "execution_count": 2,
   "id": "cb0e0b79",
   "metadata": {
    "execution": {
     "iopub.execute_input": "2024-08-31T17:45:45.650028Z",
     "iopub.status.busy": "2024-08-31T17:45:45.649057Z",
     "iopub.status.idle": "2024-08-31T17:45:46.013806Z",
     "shell.execute_reply": "2024-08-31T17:45:46.012555Z",
     "shell.execute_reply.started": "2024-08-31T17:45:45.649977Z"
    }
   },
   "outputs": [
    {
     "data": {
      "text/plain": [
       "0"
      ]
     },
     "execution_count": 2,
     "metadata": {},
     "output_type": "execute_result"
    }
   ],
   "source": [
    "import gc\n",
    "from tensorflow.keras import backend as K\n",
    "\n",
    "# At the end of each iteration\n",
    "K.clear_session()\n",
    "gc.collect()\n"
   ]
  },
  {
   "cell_type": "code",
   "execution_count": 7,
   "id": "e785e671",
   "metadata": {
    "execution": {
     "iopub.execute_input": "2024-08-31T17:45:46.015379Z",
     "iopub.status.busy": "2024-08-31T17:45:46.015032Z",
     "iopub.status.idle": "2024-08-31T17:45:46.024335Z",
     "shell.execute_reply": "2024-08-31T17:45:46.023581Z",
     "shell.execute_reply.started": "2024-08-31T17:45:46.015342Z"
    },
    "id": "d1c22365"
   },
   "outputs": [],
   "source": [
    "# Load and preprocess images using tf.data API for optimized performance\n",
    "def load_images(folder, label):\n",
    "    file_paths = [os.path.join(folder, filename) for filename in os.listdir(folder)]\n",
    "    labels = [label] * len(file_paths)\n",
    "    return file_paths, labels\n",
    "\n",
    "# Paths\n",
    "folder_benign_train = '/kaggle/input/skin-cancer-malignant-vs-benign/train/benign'\n",
    "folder_malignant_train = '/kaggle/input/skin-cancer-malignant-vs-benign/train/malignant'\n",
    "folder_benign_test = '/kaggle/input/skin-cancer-malignant-vs-benign/test/benign'\n",
    "folder_malignant_test = '/kaggle/input/skin-cancer-malignant-vs-benign/test/malignant'"
   ]
  },
  {
   "cell_type": "code",
   "execution_count": null,
   "id": "ac2c1cbe",
   "metadata": {
    "execution": {
     "iopub.execute_input": "2024-08-31T17:45:46.026807Z",
     "iopub.status.busy": "2024-08-31T17:45:46.026485Z",
     "iopub.status.idle": "2024-08-31T17:45:46.435641Z",
     "shell.execute_reply": "2024-08-31T17:45:46.434614Z",
     "shell.execute_reply.started": "2024-08-31T17:45:46.026773Z"
    },
    "id": "b615cf86"
   },
   "outputs": [],
   "source": [
    "# Load images and labels\n",
    "X_benign_train, y_benign_train = load_images(folder_benign_train, 0)\n",
    "X_malignant_train, y_malignant_train = load_images(folder_malignant_train, 1)\n",
    "X_benign_test, y_benign_test = load_images(folder_benign_test, 0)\n",
    "X_malignant_test, y_malignant_test = load_images(folder_malignant_test, 1)\n",
    "\n",
    "# Combine and split datasets\n",
    "X_train = X_benign_train + X_malignant_train\n",
    "y_train = y_benign_train + y_malignant_train\n",
    "X_test = X_benign_test + X_malignant_test\n",
    "y_test = y_benign_test + y_malignant_test"
   ]
  },
  {
   "cell_type": "code",
   "execution_count": 5,
   "id": "d1632229",
   "metadata": {
    "execution": {
     "iopub.execute_input": "2024-08-31T17:45:46.437371Z",
     "iopub.status.busy": "2024-08-31T17:45:46.436977Z",
     "iopub.status.idle": "2024-08-31T17:45:46.448120Z",
     "shell.execute_reply": "2024-08-31T17:45:46.446982Z",
     "shell.execute_reply.started": "2024-08-31T17:45:46.437325Z"
    },
    "id": "bdebb07d"
   },
   "outputs": [],
   "source": [
    "# Convert lists to numpy arrays\n",
    "X_train, y_train = np.array(X_train), np.array(y_train)\n",
    "X_test, y_test = np.array(X_test), np.array(y_test)"
   ]
  },
  {
   "cell_type": "code",
   "execution_count": 6,
   "id": "87625226",
   "metadata": {
    "execution": {
     "iopub.execute_input": "2024-08-31T17:45:46.450043Z",
     "iopub.status.busy": "2024-08-31T17:45:46.449604Z",
     "iopub.status.idle": "2024-08-31T17:45:46.528866Z",
     "shell.execute_reply": "2024-08-31T17:45:46.527984Z",
     "shell.execute_reply.started": "2024-08-31T17:45:46.449988Z"
    },
    "id": "024eba4e"
   },
   "outputs": [],
   "source": [
    "# Shuffle the data\n",
    "def shuffle_data(X, y):\n",
    "    s = np.arange(X.shape[0])\n",
    "    np.random.shuffle(s)\n",
    "    return X[s], y[s]\n",
    "\n",
    "X_train, y_train = shuffle_data(X_train, y_train)\n",
    "X_test, y_test = shuffle_data(X_test, y_test)"
   ]
  },
  {
   "cell_type": "code",
   "execution_count": 7,
   "id": "cfe7cb4f",
   "metadata": {
    "execution": {
     "iopub.execute_input": "2024-08-31T17:45:46.530097Z",
     "iopub.status.busy": "2024-08-31T17:45:46.529843Z",
     "iopub.status.idle": "2024-08-31T17:45:46.546555Z",
     "shell.execute_reply": "2024-08-31T17:45:46.545580Z",
     "shell.execute_reply.started": "2024-08-31T17:45:46.530068Z"
    }
   },
   "outputs": [],
   "source": [
    "# Split the training set into training and validation sets\n",
    "X_train_split, X_val_split, y_train_split, y_val_split = train_test_split(X_train, y_train, test_size=0.2, random_state=42)"
   ]
  },
  {
   "cell_type": "code",
   "execution_count": 8,
   "id": "c0109d95",
   "metadata": {
    "execution": {
     "iopub.execute_input": "2024-08-31T17:45:46.548045Z",
     "iopub.status.busy": "2024-08-31T17:45:46.547762Z",
     "iopub.status.idle": "2024-08-31T17:45:47.742531Z",
     "shell.execute_reply": "2024-08-31T17:45:47.741764Z",
     "shell.execute_reply.started": "2024-08-31T17:45:46.548014Z"
    }
   },
   "outputs": [],
   "source": [
    "# tf.data Dataset creation\n",
    "import tensorflow as tf\n",
    "\n",
    "def preprocess_image(image_path, label):\n",
    "    # Read the image from the file\n",
    "    image = tf.io.read_file(image_path)\n",
    "    \n",
    "    # Decode the image to a tensor\n",
    "    image = tf.image.decode_image(image, channels=3)\n",
    "    \n",
    "    # Ensure that the image has a known shape\n",
    "    image.set_shape([None, None, 3])\n",
    "    \n",
    "    # Resize the image to the required dimensions\n",
    "    image = tf.image.resize(image, [224, 224])\n",
    "    \n",
    "    # Normalize the image to [0, 1] range\n",
    "    image = tf.cast(image, tf.float32) / 255.0\n",
    "    \n",
    "    return image, label\n",
    "\n",
    "\n",
    "train_dataset = tf.data.Dataset.from_tensor_slices((X_train_split, y_train_split))\n",
    "train_dataset = train_dataset.map(preprocess_image).shuffle(buffer_size=1000).batch(32).prefetch(buffer_size=tf.data.AUTOTUNE)\n",
    "\n",
    "val_dataset = tf.data.Dataset.from_tensor_slices((X_val_split, y_val_split))\n",
    "val_dataset = val_dataset.map(preprocess_image).batch(32).prefetch(buffer_size=tf.data.AUTOTUNE)\n",
    "\n",
    "test_dataset = tf.data.Dataset.from_tensor_slices((X_test, y_test))\n",
    "test_dataset = test_dataset.map(preprocess_image).batch(32).prefetch(buffer_size=tf.data.AUTOTUNE)"
   ]
  },
  {
   "cell_type": "code",
   "execution_count": 9,
   "id": "8778cd02",
   "metadata": {
    "execution": {
     "iopub.execute_input": "2024-08-31T17:45:47.743869Z",
     "iopub.status.busy": "2024-08-31T17:45:47.743586Z",
     "iopub.status.idle": "2024-08-31T17:45:47.753206Z",
     "shell.execute_reply": "2024-08-31T17:45:47.752502Z",
     "shell.execute_reply.started": "2024-08-31T17:45:47.743837Z"
    },
    "id": "8484a29f"
   },
   "outputs": [],
   "source": [
    "# Model Building\n",
    "def build_model(input_shape, filters, kernel_sizes, dropout_rates, learning_rate):\n",
    "    model = Sequential()\n",
    "    model.add(Conv2D(filters[0], kernel_size=(kernel_sizes[0], kernel_sizes[0]), activation='relu', input_shape=input_shape))\n",
    "    model.add(BatchNormalization())\n",
    "    model.add(MaxPooling2D(pool_size=(2, 2)))\n",
    "    model.add(Dropout(dropout_rates[0]))\n",
    "\n",
    "    model.add(Conv2D(filters[1], kernel_size=(kernel_sizes[1], kernel_sizes[1]), activation='relu'))\n",
    "    model.add(BatchNormalization())\n",
    "    model.add(MaxPooling2D(pool_size=(2, 2)))\n",
    "    model.add(Dropout(dropout_rates[1]))\n",
    "\n",
    "    model.add(Conv2D(filters[2], kernel_size=(kernel_sizes[2], kernel_sizes[2]), activation='relu'))\n",
    "    model.add(BatchNormalization())\n",
    "    model.add(MaxPooling2D(pool_size=(2, 2)))\n",
    "    model.add(Dropout(dropout_rates[2]))\n",
    "\n",
    "    model.add(Flatten())\n",
    "    model.add(Dense(512, activation='relu'))\n",
    "    model.add(Dropout(0.5))\n",
    "    model.add(Dense(2, activation='softmax'))\n",
    "\n",
    "    model.compile(optimizer=Adam(learning_rate=learning_rate), loss='sparse_categorical_crossentropy', metrics=['accuracy'])\n",
    "    return model"
   ]
  },
  {
   "cell_type": "code",
   "execution_count": 10,
   "id": "c43ef205",
   "metadata": {
    "execution": {
     "iopub.execute_input": "2024-08-31T17:45:47.756412Z",
     "iopub.status.busy": "2024-08-31T17:45:47.756121Z",
     "iopub.status.idle": "2024-08-31T17:45:47.786053Z",
     "shell.execute_reply": "2024-08-31T17:45:47.785163Z",
     "shell.execute_reply.started": "2024-08-31T17:45:47.756379Z"
    },
    "id": "8ccddb8b"
   },
   "outputs": [],
   "source": [
    "# Genetic algorithm setup\n",
    "def generate_initial_population(population_size):\n",
    "    population = []\n",
    "    for _ in range(population_size):\n",
    "        filters = [random.choice([32, 64, 128, 256]) for _ in range(3)]\n",
    "        kernel_sizes = [random.choice([3, 5, 7]) for _ in range(3)]\n",
    "        dropout_rates = [random.uniform(0.3, 0.6) for _ in range(3)]\n",
    "        population.append((filters, kernel_sizes, dropout_rates))\n",
    "    return population"
   ]
  },
  {
   "cell_type": "code",
   "execution_count": 11,
   "id": "4ce1d983",
   "metadata": {
    "execution": {
     "iopub.execute_input": "2024-08-31T17:45:47.787398Z",
     "iopub.status.busy": "2024-08-31T17:45:47.787090Z",
     "iopub.status.idle": "2024-08-31T17:45:47.799376Z",
     "shell.execute_reply": "2024-08-31T17:45:47.798588Z",
     "shell.execute_reply.started": "2024-08-31T17:45:47.787344Z"
    }
   },
   "outputs": [],
   "source": [
    "def crossover_and_mutate(selected_individuals, mutation_rate):\n",
    "    next_generation = []\n",
    "    for i in range(len(selected_individuals)):\n",
    "        parent1 = selected_individuals[i]\n",
    "        parent2 = selected_individuals[(i + 1) % len(selected_individuals)]\n",
    "        \n",
    "        # Crossover\n",
    "        crossover_point = random.randint(1, len(parent1[0]) - 1)\n",
    "        child1_filters = parent1[0][:crossover_point] + parent2[0][crossover_point:]\n",
    "        child1_kernels = parent1[1][:crossover_point] + parent2[1][crossover_point:]\n",
    "        child1_dropouts = parent1[2][:crossover_point] + parent2[2][crossover_point:]\n",
    "        \n",
    "        child2_filters = parent2[0][:crossover_point] + parent1[0][crossover_point:]\n",
    "        child2_kernels = parent2[1][:crossover_point] + parent1[1][crossover_point:]\n",
    "        child2_dropouts = parent2[2][:crossover_point] + parent1[2][crossover_point:]\n",
    "        \n",
    "        # Mutation\n",
    "        if random.random() < mutation_rate:\n",
    "            mutation_index = random.randint(0, len(child1_filters) - 1)\n",
    "            child1_filters[mutation_index] = random.choice([32, 64, 128, 256])\n",
    "            child1_kernels[mutation_index] = random.choice([3, 5, 7])\n",
    "            child1_dropouts[mutation_index] = random.uniform(0.3, 0.6)\n",
    "\n",
    "        if random.random() < mutation_rate:\n",
    "            mutation_index = random.randint(0, len(child2_filters) - 1)\n",
    "            child2_filters[mutation_index] = random.choice([32, 64, 128, 256])\n",
    "            child2_kernels[mutation_index] = random.choice([3, 5, 7])\n",
    "            child2_dropouts[mutation_index] = random.uniform(0.3, 0.6)\n",
    "        \n",
    "        next_generation.append((child1_filters, child1_kernels, child1_dropouts))\n",
    "        next_generation.append((child2_filters, child2_kernels, child2_dropouts))\n",
    "    \n",
    "    return next_generation"
   ]
  },
  {
   "cell_type": "code",
   "execution_count": 12,
   "id": "561e3876",
   "metadata": {
    "execution": {
     "iopub.execute_input": "2024-08-31T17:45:47.800964Z",
     "iopub.status.busy": "2024-08-31T17:45:47.800692Z",
     "iopub.status.idle": "2024-08-31T17:45:47.813036Z",
     "shell.execute_reply": "2024-08-31T17:45:47.812257Z",
     "shell.execute_reply.started": "2024-08-31T17:45:47.800933Z"
    }
   },
   "outputs": [],
   "source": [
    "def evaluate_fitness(individual, input_shape, lr, epochs):\n",
    "    filters, kernel_sizes, dropout_rates = individual\n",
    "    model = build_model(input_shape, filters, kernel_sizes, dropout_rates, learning_rate=lr)\n",
    "\n",
    "    early_stopping = EarlyStopping(monitor='val_loss', patience=3, restore_best_weights=True)\n",
    "    history = model.fit(train_dataset,\n",
    "                        validation_data=val_dataset,  \n",
    "                        epochs=epochs, verbose=0, \n",
    "                        callbacks=[early_stopping])\n",
    "\n",
    "    val_loss, val_accuracy = model.evaluate(val_dataset, verbose=0)\n",
    "    return val_accuracy"
   ]
  },
  {
   "cell_type": "code",
   "execution_count": 13,
   "id": "5e13c1e9",
   "metadata": {
    "execution": {
     "iopub.execute_input": "2024-08-31T17:45:47.814693Z",
     "iopub.status.busy": "2024-08-31T17:45:47.814101Z",
     "iopub.status.idle": "2024-08-31T17:45:47.828091Z",
     "shell.execute_reply": "2024-08-31T17:45:47.827392Z",
     "shell.execute_reply.started": "2024-08-31T17:45:47.814656Z"
    },
    "id": "dca569aa"
   },
   "outputs": [],
   "source": [
    "def genetic_algorithm(population_size, generations, mutation_rate, input_shape, lr, epochs):\n",
    "    population = generate_initial_population(population_size)\n",
    "    \n",
    "    for generation in range(generations):\n",
    "        fitness_scores = []\n",
    "        for individual in population:\n",
    "            fitness = evaluate_fitness(individual, input_shape, lr, epochs)\n",
    "            fitness_scores.append(fitness)\n",
    "        \n",
    "        selected_individuals = [x for _, x in sorted(zip(fitness_scores, population), reverse=True)][:int(0.5*population_size)]\n",
    "        population = crossover_and_mutate(selected_individuals, mutation_rate)\n",
    "    \n",
    "    best_individual = selected_individuals[0]\n",
    "    return best_individual"
   ]
  },
  {
   "cell_type": "code",
   "execution_count": 14,
   "id": "56930f33",
   "metadata": {
    "execution": {
     "iopub.execute_input": "2024-08-31T17:45:47.829882Z",
     "iopub.status.busy": "2024-08-31T17:45:47.829248Z",
     "iopub.status.idle": "2024-08-31T18:00:34.288084Z",
     "shell.execute_reply": "2024-08-31T18:00:34.287177Z",
     "shell.execute_reply.started": "2024-08-31T17:45:47.829840Z"
    },
    "id": "facbde4e"
   },
   "outputs": [
    {
     "name": "stderr",
     "output_type": "stream",
     "text": [
      "/opt/conda/lib/python3.10/site-packages/keras/src/layers/convolutional/base_conv.py:107: UserWarning: Do not pass an `input_shape`/`input_dim` argument to a layer. When using Sequential models, prefer using an `Input(shape)` object as the first layer in the model instead.\n",
      "  super().__init__(activity_regularizer=activity_regularizer, **kwargs)\n",
      "WARNING: All log messages before absl::InitializeLog() is called are written to STDERR\n",
      "I0000 00:00:1725126352.675923     106 service.cc:145] XLA service 0x7b36640098d0 initialized for platform CUDA (this does not guarantee that XLA will be used). Devices:\n",
      "I0000 00:00:1725126352.675997     106 service.cc:153]   StreamExecutor device (0): Tesla T4, Compute Capability 7.5\n",
      "I0000 00:00:1725126352.676003     106 service.cc:153]   StreamExecutor device (1): Tesla T4, Compute Capability 7.5\n",
      "I0000 00:00:1725126371.816048     106 device_compiler.h:188] Compiled cluster using XLA!  This line is logged at most once for the lifetime of the process.\n"
     ]
    }
   ],
   "source": [
    "# Run Genetic Algorithm\n",
    "best_model_params = genetic_algorithm(population_size=5, generations=3, mutation_rate=0.1, input_shape=(224, 224, 3), lr=0.001, epochs=5)"
   ]
  },
  {
   "cell_type": "code",
   "execution_count": 15,
   "id": "0e8461b3",
   "metadata": {
    "execution": {
     "iopub.execute_input": "2024-08-31T18:00:34.289738Z",
     "iopub.status.busy": "2024-08-31T18:00:34.289422Z",
     "iopub.status.idle": "2024-08-31T18:00:34.463375Z",
     "shell.execute_reply": "2024-08-31T18:00:34.462729Z",
     "shell.execute_reply.started": "2024-08-31T18:00:34.289703Z"
    }
   },
   "outputs": [],
   "source": [
    "# Best model final training\n",
    "final_model = build_model(input_shape=(224, 224, 3), \n",
    "                          filters=best_model_params[0], \n",
    "                          kernel_sizes=best_model_params[1], \n",
    "                          dropout_rates=best_model_params[2], \n",
    "                          learning_rate=0.001)"
   ]
  },
  {
   "cell_type": "code",
   "execution_count": 16,
   "id": "80d64464",
   "metadata": {
    "execution": {
     "iopub.execute_input": "2024-08-31T18:00:34.465326Z",
     "iopub.status.busy": "2024-08-31T18:00:34.464707Z",
     "iopub.status.idle": "2024-08-31T18:06:15.752339Z",
     "shell.execute_reply": "2024-08-31T18:06:15.751316Z",
     "shell.execute_reply.started": "2024-08-31T18:00:34.465274Z"
    },
    "id": "d8fc1f09"
   },
   "outputs": [
    {
     "name": "stdout",
     "output_type": "stream",
     "text": [
      "Epoch 1/30\n",
      "\u001b[1m66/66\u001b[0m \u001b[32m━━━━━━━━━━━━━━━━━━━━\u001b[0m\u001b[37m\u001b[0m \u001b[1m28s\u001b[0m 297ms/step - accuracy: 0.6458 - loss: 5.7280 - val_accuracy: 0.5928 - val_loss: 2.5923 - learning_rate: 0.0010\n",
      "Epoch 2/30\n",
      "\u001b[1m66/66\u001b[0m \u001b[32m━━━━━━━━━━━━━━━━━━━━\u001b[0m\u001b[37m\u001b[0m \u001b[1m11s\u001b[0m 152ms/step - accuracy: 0.7203 - loss: 1.3254 - val_accuracy: 0.6723 - val_loss: 0.8685 - learning_rate: 0.0010\n",
      "Epoch 3/30\n",
      "\u001b[1m66/66\u001b[0m \u001b[32m━━━━━━━━━━━━━━━━━━━━\u001b[0m\u001b[37m\u001b[0m \u001b[1m10s\u001b[0m 145ms/step - accuracy: 0.7510 - loss: 0.9282 - val_accuracy: 0.5985 - val_loss: 0.6926 - learning_rate: 0.0010\n",
      "Epoch 4/30\n",
      "\u001b[1m66/66\u001b[0m \u001b[32m━━━━━━━━━━━━━━━━━━━━\u001b[0m\u001b[37m\u001b[0m \u001b[1m11s\u001b[0m 153ms/step - accuracy: 0.7785 - loss: 0.7237 - val_accuracy: 0.7443 - val_loss: 0.5997 - learning_rate: 0.0010\n",
      "Epoch 5/30\n",
      "\u001b[1m66/66\u001b[0m \u001b[32m━━━━━━━━━━━━━━━━━━━━\u001b[0m\u001b[37m\u001b[0m \u001b[1m11s\u001b[0m 152ms/step - accuracy: 0.7870 - loss: 0.5511 - val_accuracy: 0.7936 - val_loss: 0.7142 - learning_rate: 0.0010\n",
      "Epoch 6/30\n",
      "\u001b[1m66/66\u001b[0m \u001b[32m━━━━━━━━━━━━━━━━━━━━\u001b[0m\u001b[37m\u001b[0m \u001b[1m10s\u001b[0m 145ms/step - accuracy: 0.7983 - loss: 0.5035 - val_accuracy: 0.6951 - val_loss: 0.9882 - learning_rate: 0.0010\n",
      "Epoch 7/30\n",
      "\u001b[1m66/66\u001b[0m \u001b[32m━━━━━━━━━━━━━━━━━━━━\u001b[0m\u001b[37m\u001b[0m \u001b[1m11s\u001b[0m 152ms/step - accuracy: 0.7775 - loss: 0.4920 - val_accuracy: 0.8220 - val_loss: 0.5009 - learning_rate: 0.0010\n",
      "Epoch 8/30\n",
      "\u001b[1m66/66\u001b[0m \u001b[32m━━━━━━━━━━━━━━━━━━━━\u001b[0m\u001b[37m\u001b[0m \u001b[1m10s\u001b[0m 144ms/step - accuracy: 0.8177 - loss: 0.4129 - val_accuracy: 0.7235 - val_loss: 1.3506 - learning_rate: 0.0010\n",
      "Epoch 9/30\n",
      "\u001b[1m66/66\u001b[0m \u001b[32m━━━━━━━━━━━━━━━━━━━━\u001b[0m\u001b[37m\u001b[0m \u001b[1m10s\u001b[0m 144ms/step - accuracy: 0.7919 - loss: 0.4506 - val_accuracy: 0.7652 - val_loss: 0.4397 - learning_rate: 0.0010\n",
      "Epoch 10/30\n",
      "\u001b[1m66/66\u001b[0m \u001b[32m━━━━━━━━━━━━━━━━━━━━\u001b[0m\u001b[37m\u001b[0m \u001b[1m10s\u001b[0m 144ms/step - accuracy: 0.8216 - loss: 0.3967 - val_accuracy: 0.7822 - val_loss: 0.7376 - learning_rate: 0.0010\n",
      "Epoch 11/30\n",
      "\u001b[1m66/66\u001b[0m \u001b[32m━━━━━━━━━━━━━━━━━━━━\u001b[0m\u001b[37m\u001b[0m \u001b[1m10s\u001b[0m 144ms/step - accuracy: 0.8289 - loss: 0.3705 - val_accuracy: 0.5152 - val_loss: 1.8891 - learning_rate: 0.0010\n",
      "Epoch 12/30\n",
      "\u001b[1m66/66\u001b[0m \u001b[32m━━━━━━━━━━━━━━━━━━━━\u001b[0m\u001b[37m\u001b[0m \u001b[1m0s\u001b[0m 135ms/step - accuracy: 0.8134 - loss: 0.3817\n",
      "Epoch 12: ReduceLROnPlateau reducing learning rate to 0.0005000000237487257.\n",
      "\u001b[1m66/66\u001b[0m \u001b[32m━━━━━━━━━━━━━━━━━━━━\u001b[0m\u001b[37m\u001b[0m \u001b[1m10s\u001b[0m 144ms/step - accuracy: 0.8134 - loss: 0.3816 - val_accuracy: 0.7481 - val_loss: 1.5166 - learning_rate: 0.0010\n",
      "Epoch 13/30\n",
      "\u001b[1m66/66\u001b[0m \u001b[32m━━━━━━━━━━━━━━━━━━━━\u001b[0m\u001b[37m\u001b[0m \u001b[1m10s\u001b[0m 144ms/step - accuracy: 0.8167 - loss: 0.3792 - val_accuracy: 0.7727 - val_loss: 0.7978 - learning_rate: 5.0000e-04\n",
      "Epoch 14/30\n",
      "\u001b[1m66/66\u001b[0m \u001b[32m━━━━━━━━━━━━━━━━━━━━\u001b[0m\u001b[37m\u001b[0m \u001b[1m10s\u001b[0m 144ms/step - accuracy: 0.8340 - loss: 0.3366 - val_accuracy: 0.7955 - val_loss: 0.5143 - learning_rate: 5.0000e-04\n",
      "Epoch 15/30\n",
      "\u001b[1m66/66\u001b[0m \u001b[32m━━━━━━━━━━━━━━━━━━━━\u001b[0m\u001b[37m\u001b[0m \u001b[1m0s\u001b[0m 135ms/step - accuracy: 0.8687 - loss: 0.2693\n",
      "Epoch 15: ReduceLROnPlateau reducing learning rate to 0.0002500000118743628.\n",
      "\u001b[1m66/66\u001b[0m \u001b[32m━━━━━━━━━━━━━━━━━━━━\u001b[0m\u001b[37m\u001b[0m \u001b[1m10s\u001b[0m 144ms/step - accuracy: 0.8685 - loss: 0.2696 - val_accuracy: 0.8030 - val_loss: 0.5286 - learning_rate: 5.0000e-04\n",
      "Epoch 16/30\n",
      "\u001b[1m66/66\u001b[0m \u001b[32m━━━━━━━━━━━━━━━━━━━━\u001b[0m\u001b[37m\u001b[0m \u001b[1m11s\u001b[0m 152ms/step - accuracy: 0.8764 - loss: 0.2443 - val_accuracy: 0.8352 - val_loss: 0.3862 - learning_rate: 2.5000e-04\n",
      "Epoch 17/30\n",
      "\u001b[1m66/66\u001b[0m \u001b[32m━━━━━━━━━━━━━━━━━━━━\u001b[0m\u001b[37m\u001b[0m \u001b[1m10s\u001b[0m 143ms/step - accuracy: 0.8775 - loss: 0.2501 - val_accuracy: 0.8295 - val_loss: 0.3713 - learning_rate: 2.5000e-04\n",
      "Epoch 18/30\n",
      "\u001b[1m66/66\u001b[0m \u001b[32m━━━━━━━━━━━━━━━━━━━━\u001b[0m\u001b[37m\u001b[0m \u001b[1m10s\u001b[0m 144ms/step - accuracy: 0.8809 - loss: 0.2422 - val_accuracy: 0.8258 - val_loss: 0.3934 - learning_rate: 2.5000e-04\n",
      "Epoch 19/30\n",
      "\u001b[1m66/66\u001b[0m \u001b[32m━━━━━━━━━━━━━━━━━━━━\u001b[0m\u001b[37m\u001b[0m \u001b[1m10s\u001b[0m 144ms/step - accuracy: 0.8896 - loss: 0.2354 - val_accuracy: 0.8352 - val_loss: 0.3922 - learning_rate: 2.5000e-04\n",
      "Epoch 20/30\n",
      "\u001b[1m66/66\u001b[0m \u001b[32m━━━━━━━━━━━━━━━━━━━━\u001b[0m\u001b[37m\u001b[0m \u001b[1m0s\u001b[0m 135ms/step - accuracy: 0.8714 - loss: 0.2361\n",
      "Epoch 20: ReduceLROnPlateau reducing learning rate to 0.0001250000059371814.\n",
      "\u001b[1m66/66\u001b[0m \u001b[32m━━━━━━━━━━━━━━━━━━━━\u001b[0m\u001b[37m\u001b[0m \u001b[1m10s\u001b[0m 144ms/step - accuracy: 0.8715 - loss: 0.2362 - val_accuracy: 0.8295 - val_loss: 0.4130 - learning_rate: 2.5000e-04\n",
      "Epoch 21/30\n",
      "\u001b[1m66/66\u001b[0m \u001b[32m━━━━━━━━━━━━━━━━━━━━\u001b[0m\u001b[37m\u001b[0m \u001b[1m10s\u001b[0m 144ms/step - accuracy: 0.8895 - loss: 0.2224 - val_accuracy: 0.8314 - val_loss: 0.3954 - learning_rate: 1.2500e-04\n",
      "Epoch 22/30\n",
      "\u001b[1m66/66\u001b[0m \u001b[32m━━━━━━━━━━━━━━━━━━━━\u001b[0m\u001b[37m\u001b[0m \u001b[1m10s\u001b[0m 144ms/step - accuracy: 0.8926 - loss: 0.2148 - val_accuracy: 0.8314 - val_loss: 0.4287 - learning_rate: 1.2500e-04\n",
      "Epoch 23/30\n",
      "\u001b[1m66/66\u001b[0m \u001b[32m━━━━━━━━━━━━━━━━━━━━\u001b[0m\u001b[37m\u001b[0m \u001b[1m0s\u001b[0m 135ms/step - accuracy: 0.9053 - loss: 0.1981\n",
      "Epoch 23: ReduceLROnPlateau reducing learning rate to 6.25000029685907e-05.\n",
      "\u001b[1m66/66\u001b[0m \u001b[32m━━━━━━━━━━━━━━━━━━━━\u001b[0m\u001b[37m\u001b[0m \u001b[1m11s\u001b[0m 152ms/step - accuracy: 0.9053 - loss: 0.1982 - val_accuracy: 0.8542 - val_loss: 0.3780 - learning_rate: 1.2500e-04\n",
      "Epoch 24/30\n",
      "\u001b[1m66/66\u001b[0m \u001b[32m━━━━━━━━━━━━━━━━━━━━\u001b[0m\u001b[37m\u001b[0m \u001b[1m10s\u001b[0m 144ms/step - accuracy: 0.9026 - loss: 0.1977 - val_accuracy: 0.8542 - val_loss: 0.3928 - learning_rate: 6.2500e-05\n",
      "Epoch 25/30\n",
      "\u001b[1m66/66\u001b[0m \u001b[32m━━━━━━━━━━━━━━━━━━━━\u001b[0m\u001b[37m\u001b[0m \u001b[1m21s\u001b[0m 143ms/step - accuracy: 0.9037 - loss: 0.1940 - val_accuracy: 0.8485 - val_loss: 0.4072 - learning_rate: 6.2500e-05\n",
      "Epoch 26/30\n",
      "\u001b[1m66/66\u001b[0m \u001b[32m━━━━━━━━━━━━━━━━━━━━\u001b[0m\u001b[37m\u001b[0m \u001b[1m0s\u001b[0m 135ms/step - accuracy: 0.9025 - loss: 0.2104\n",
      "Epoch 26: ReduceLROnPlateau reducing learning rate to 3.125000148429535e-05.\n",
      "\u001b[1m66/66\u001b[0m \u001b[32m━━━━━━━━━━━━━━━━━━━━\u001b[0m\u001b[37m\u001b[0m \u001b[1m10s\u001b[0m 144ms/step - accuracy: 0.9026 - loss: 0.2103 - val_accuracy: 0.8466 - val_loss: 0.4249 - learning_rate: 6.2500e-05\n",
      "Epoch 27/30\n",
      "\u001b[1m66/66\u001b[0m \u001b[32m━━━━━━━━━━━━━━━━━━━━\u001b[0m\u001b[37m\u001b[0m \u001b[1m10s\u001b[0m 145ms/step - accuracy: 0.9114 - loss: 0.1953 - val_accuracy: 0.8504 - val_loss: 0.3991 - learning_rate: 3.1250e-05\n",
      "Epoch 28/30\n",
      "\u001b[1m66/66\u001b[0m \u001b[32m━━━━━━━━━━━━━━━━━━━━\u001b[0m\u001b[37m\u001b[0m \u001b[1m10s\u001b[0m 145ms/step - accuracy: 0.9249 - loss: 0.1869 - val_accuracy: 0.8485 - val_loss: 0.3920 - learning_rate: 3.1250e-05\n",
      "Epoch 29/30\n",
      "\u001b[1m66/66\u001b[0m \u001b[32m━━━━━━━━━━━━━━━━━━━━\u001b[0m\u001b[37m\u001b[0m \u001b[1m0s\u001b[0m 136ms/step - accuracy: 0.9130 - loss: 0.1881\n",
      "Epoch 29: ReduceLROnPlateau reducing learning rate to 1.5625000742147677e-05.\n",
      "\u001b[1m66/66\u001b[0m \u001b[32m━━━━━━━━━━━━━━━━━━━━\u001b[0m\u001b[37m\u001b[0m \u001b[1m10s\u001b[0m 144ms/step - accuracy: 0.9130 - loss: 0.1882 - val_accuracy: 0.8504 - val_loss: 0.3922 - learning_rate: 3.1250e-05\n",
      "Epoch 30/30\n",
      "\u001b[1m66/66\u001b[0m \u001b[32m━━━━━━━━━━━━━━━━━━━━\u001b[0m\u001b[37m\u001b[0m \u001b[1m10s\u001b[0m 144ms/step - accuracy: 0.9156 - loss: 0.1889 - val_accuracy: 0.8504 - val_loss: 0.3900 - learning_rate: 1.5625e-05\n"
     ]
    }
   ],
   "source": [
    "# Callbacks\n",
    "checkpoint = ModelCheckpoint('best_model.keras', monitor='val_accuracy', save_best_only=True, mode='max')\n",
    "lr_scheduler = ReduceLROnPlateau(monitor='val_loss', factor=0.5, patience=3, verbose=1)\n",
    "\n",
    "history = final_model.fit(train_dataset, \n",
    "                          validation_data=val_dataset, \n",
    "                          epochs=30, \n",
    "                          callbacks=[checkpoint, lr_scheduler])"
   ]
  },
  {
   "cell_type": "code",
   "execution_count": 17,
   "id": "7fe046f1",
   "metadata": {
    "execution": {
     "iopub.execute_input": "2024-08-31T18:06:15.754572Z",
     "iopub.status.busy": "2024-08-31T18:06:15.753886Z",
     "iopub.status.idle": "2024-08-31T18:06:20.689381Z",
     "shell.execute_reply": "2024-08-31T18:06:20.688303Z",
     "shell.execute_reply.started": "2024-08-31T18:06:15.754503Z"
    }
   },
   "outputs": [
    {
     "name": "stdout",
     "output_type": "stream",
     "text": [
      "\u001b[1m21/21\u001b[0m \u001b[32m━━━━━━━━━━━━━━━━━━━━\u001b[0m\u001b[37m\u001b[0m \u001b[1m5s\u001b[0m 201ms/step\n"
     ]
    },
    {
     "data": {
      "image/png": "[encoded data removed]",
      "text/plain": [
       "<Figure size 640x480 with 2 Axes>"
      ]
     },
     "metadata": {},
     "output_type": "display_data"
    },
    {
     "name": "stdout",
     "output_type": "stream",
     "text": [
      "Precision: 0.8598484848484849, Recall: 0.7566666666666667, F1 Score: 0.8049645390070922\n"
     ]
    }
   ],
   "source": [
    "# Predictions and Confusion Matrix\n",
    "y_pred = np.argmax(final_model.predict(test_dataset), axis=-1)\n",
    "conf_matrix = confusion_matrix(y_test, y_pred)\n",
    "sns.heatmap(conf_matrix, annot=True, fmt='d')\n",
    "plt.show()\n",
    "\n",
    "# Calculate additional metrics\n",
    "precision = precision_score(y_test, y_pred)\n",
    "recall = recall_score(y_test, y_pred)\n",
    "f1 = f1_score(y_test, y_pred)\n",
    "print(f'Precision: {precision}, Recall: {recall}, F1 Score: {f1}')"
   ]
  },
  {
   "cell_type": "code",
   "execution_count": 18,
   "id": "4217f4a9",
   "metadata": {
    "execution": {
     "iopub.execute_input": "2024-08-31T18:06:20.691256Z",
     "iopub.status.busy": "2024-08-31T18:06:20.690778Z",
     "iopub.status.idle": "2024-08-31T18:06:20.700727Z",
     "shell.execute_reply": "2024-08-31T18:06:20.699781Z",
     "shell.execute_reply.started": "2024-08-31T18:06:20.691201Z"
    },
    "id": "zKvcZRTlyo-I"
   },
   "outputs": [],
   "source": [
    "# Plot training accuracy over epochs\n",
    "def plot_training_accuracy(history):\n",
    "    plt.plot(history.history['accuracy'])\n",
    "    plt.plot(history.history['val_accuracy'])\n",
    "    plt.title('Model accuracy')\n",
    "    plt.ylabel('Accuracy')\n",
    "    plt.xlabel('Epoch')\n",
    "    plt.legend(['Train', 'Validation'], loc='upper left')\n",
    "    plt.show()\n",
    "\n",
    "# Plot ROC curve\n",
    "def plot_roc_curve(y_true, y_pred):\n",
    "    fpr, tpr, _ = roc_curve(y_true, y_pred)\n",
    "    roc_auc = auc(fpr, tpr)\n",
    "    plt.figure()\n",
    "    plt.plot(fpr, tpr, color='darkorange', lw=2, label='ROC curve (area = %0.2f)' % roc_auc)\n",
    "    plt.plot([0, 1], [0, 1], color='navy', lw=2, linestyle='--')\n",
    "    plt.xlim([0.0, 1.0])\n",
    "    plt.ylim([0.0, 1.05])\n",
    "    plt.xlabel('False Positive Rate')\n",
    "    plt.ylabel('True Positive Rate')\n",
    "    plt.title('Receiver Operating Characteristic')\n",
    "    plt.legend(loc=\"lower right\")\n",
    "    plt.show()"
   ]
  },
  {
   "cell_type": "code",
   "execution_count": 20,
   "id": "ea465bc3",
   "metadata": {
    "execution": {
     "iopub.execute_input": "2024-08-31T18:11:00.694280Z",
     "iopub.status.busy": "2024-08-31T18:11:00.693374Z",
     "iopub.status.idle": "2024-08-31T18:11:00.986111Z",
     "shell.execute_reply": "2024-08-31T18:11:00.985196Z",
     "shell.execute_reply.started": "2024-08-31T18:11:00.694236Z"
    }
   },
   "outputs": [
    {
     "data": {
      "image/png": "[encoded data removed]",
      "text/plain": [
       "<Figure size 640x480 with 1 Axes>"
      ]
     },
     "metadata": {},
     "output_type": "display_data"
    }
   ],
   "source": [
    "# Plot the accuracy\n",
    "plot_training_accuracy(history)"
   ]
  },
  {
   "cell_type": "code",
   "execution_count": null,
   "id": "bbe00507",
   "metadata": {},
   "outputs": [],
   "source": []
  }
 ],
 "metadata": {
  "accelerator": "GPU",
  "colab": {
   "gpuType": "T4",
   "provenance": []
  },
  "kaggle": {
   "accelerator": "nvidiaTeslaT4",
   "dataSources": [
    {
     "datasetId": 174469,
     "sourceId": 505351,
     "sourceType": "datasetVersion"
    }
   ],
   "isGpuEnabled": true,
   "isInternetEnabled": false,
   "language": "python",
   "sourceType": "notebook"
  },
  "kernelspec": {
   "display_name": "tensorflow",
   "language": "python",
   "name": "python3"
  },
  "language_info": {
   "codemirror_mode": {
    "name": "ipython",
    "version": 3
   },
   "file_extension": ".py",
   "mimetype": "text/x-python",
   "name": "python",
   "nbconvert_exporter": "python",
   "pygments_lexer": "ipython3",
   "version": "3.10.13"
  }
 },
 "nbformat": 4,
 "nbformat_minor": 5
}
